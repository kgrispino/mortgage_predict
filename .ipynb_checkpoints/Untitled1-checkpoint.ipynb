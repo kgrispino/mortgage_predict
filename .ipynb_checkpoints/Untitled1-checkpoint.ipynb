{
 "cells": [
  {
   "cell_type": "code",
   "execution_count": 1,
   "metadata": {},
   "outputs": [
    {
     "name": "stdout",
     "output_type": "stream",
     "text": [
      "Populating the interactive namespace from numpy and matplotlib\n"
     ]
    }
   ],
   "source": [
    "import pandas as pd\n",
    "import numpy as np\n",
    "from sklearn import datasets\n",
    "from sklearn.model_selection import train_test_split\n",
    "from sklearn.preprocessing import StandardScaler\n",
    "from matplotlib.colors import ListedColormap\n",
    "import matplotlib.pyplot as plt\n",
    "%pylab inline\n",
    "pylab.rcParams['figure.figsize'] = (10, 6)"
   ]
  },
  {
   "cell_type": "code",
   "execution_count": 11,
   "metadata": {},
   "outputs": [
    {
     "name": "stdout",
     "output_type": "stream",
     "text": [
      "\n",
      "The unique labels in this data are [ 1  2  3  4  5  6  7  8  9 10 11 12 13 14 15 16 17 18 19 21 24 32 99]\n"
     ]
    },
    {
     "data": {
      "text/plain": [
       "array([[2, 1, 1, ..., 1993.0, 2094, True],\n",
       "       [2, 2, 1, ..., 1163.0, 4194, False],\n",
       "       [1, 2, 1, ..., 1611.0, 1119, False],\n",
       "       ...,\n",
       "       [1, 1, 3, ..., 1787.0, 1249, False],\n",
       "       [1, 2, 1, ..., 1866.0, 3924, False],\n",
       "       [2, 1, 2, ..., 2215.0, 2712, False]], dtype=object)"
      ]
     },
     "execution_count": 11,
     "metadata": {},
     "output_type": "execute_result"
    }
   ],
   "source": [
    "train = pd.read_csv('train_values.csv')\n",
    "train = train.dropna()\n",
    "X = train[[col for col in train.columns if col != 'rate_spread']]\n",
    "X = X[[col for col in X.columns if col != 'row_id']]\n",
    "y = train['rate_spread']\n",
    "\n",
    "X = X.values\n",
    "y = y.values\n",
    "\n",
    "# Print the unique labels of the dataset\n",
    "print('\\n' + 'The unique labels in this data are ' + str(np.unique(y)))\n",
    "X"
   ]
  },
  {
   "cell_type": "code",
   "execution_count": 12,
   "metadata": {},
   "outputs": [
    {
     "name": "stdout",
     "output_type": "stream",
     "text": [
      "There are 131107 samples in the training set and 56190 samples in the test set\n"
     ]
    }
   ],
   "source": [
    "X_train, X_test, y_train, y_test = train_test_split(X, y, test_size=.3, random_state=0)\n",
    "print('There are {} samples in the training set and {} samples in the test set'.format(\n",
    "X_train.shape[0], X_test.shape[0]))"
   ]
  },
  {
   "cell_type": "code",
   "execution_count": 13,
   "metadata": {},
   "outputs": [
    {
     "name": "stdout",
     "output_type": "stream",
     "text": [
      "After standardizing our features, the first 5 rows of our data now look like this:\n",
      "\n"
     ]
    },
    {
     "data": {
      "text/html": [
       "<div>\n",
       "<style scoped>\n",
       "    .dataframe tbody tr th:only-of-type {\n",
       "        vertical-align: middle;\n",
       "    }\n",
       "\n",
       "    .dataframe tbody tr th {\n",
       "        vertical-align: top;\n",
       "    }\n",
       "\n",
       "    .dataframe thead th {\n",
       "        text-align: right;\n",
       "    }\n",
       "</style>\n",
       "<table border=\"1\" class=\"dataframe\">\n",
       "  <thead>\n",
       "    <tr style=\"text-align: right;\">\n",
       "      <th></th>\n",
       "      <th>0</th>\n",
       "      <th>1</th>\n",
       "      <th>2</th>\n",
       "      <th>3</th>\n",
       "      <th>4</th>\n",
       "      <th>5</th>\n",
       "      <th>6</th>\n",
       "      <th>7</th>\n",
       "      <th>8</th>\n",
       "      <th>9</th>\n",
       "      <th>...</th>\n",
       "      <th>11</th>\n",
       "      <th>12</th>\n",
       "      <th>13</th>\n",
       "      <th>14</th>\n",
       "      <th>15</th>\n",
       "      <th>16</th>\n",
       "      <th>17</th>\n",
       "      <th>18</th>\n",
       "      <th>19</th>\n",
       "      <th>20</th>\n",
       "    </tr>\n",
       "  </thead>\n",
       "  <tbody>\n",
       "    <tr>\n",
       "      <th>0</th>\n",
       "      <td>-0.997083</td>\n",
       "      <td>-0.428382</td>\n",
       "      <td>-0.534286</td>\n",
       "      <td>-0.240617</td>\n",
       "      <td>-0.557837</td>\n",
       "      <td>0.563852</td>\n",
       "      <td>0.431053</td>\n",
       "      <td>-1.770951</td>\n",
       "      <td>1.104611</td>\n",
       "      <td>0.188937</td>\n",
       "      <td>...</td>\n",
       "      <td>-0.722054</td>\n",
       "      <td>-0.381893</td>\n",
       "      <td>-0.952623</td>\n",
       "      <td>-1.080226</td>\n",
       "      <td>-0.519773</td>\n",
       "      <td>-0.796205</td>\n",
       "      <td>-0.624573</td>\n",
       "      <td>-0.569010</td>\n",
       "      <td>-0.412207</td>\n",
       "      <td>1.267764</td>\n",
       "    </tr>\n",
       "    <tr>\n",
       "      <th>1</th>\n",
       "      <td>0.780926</td>\n",
       "      <td>-0.428382</td>\n",
       "      <td>2.052681</td>\n",
       "      <td>-0.240617</td>\n",
       "      <td>-0.601601</td>\n",
       "      <td>0.563852</td>\n",
       "      <td>-0.102644</td>\n",
       "      <td>0.358943</td>\n",
       "      <td>1.126290</td>\n",
       "      <td>0.188937</td>\n",
       "      <td>...</td>\n",
       "      <td>1.073316</td>\n",
       "      <td>-0.492214</td>\n",
       "      <td>1.291202</td>\n",
       "      <td>0.290286</td>\n",
       "      <td>0.039224</td>\n",
       "      <td>0.714708</td>\n",
       "      <td>2.147722</td>\n",
       "      <td>1.671417</td>\n",
       "      <td>0.114370</td>\n",
       "      <td>-0.788790</td>\n",
       "    </tr>\n",
       "    <tr>\n",
       "      <th>2</th>\n",
       "      <td>-0.997083</td>\n",
       "      <td>-0.428382</td>\n",
       "      <td>0.759198</td>\n",
       "      <td>-0.240617</td>\n",
       "      <td>-0.630777</td>\n",
       "      <td>0.563852</td>\n",
       "      <td>-1.460295</td>\n",
       "      <td>-0.092853</td>\n",
       "      <td>-0.564659</td>\n",
       "      <td>0.188937</td>\n",
       "      <td>...</td>\n",
       "      <td>1.073316</td>\n",
       "      <td>0.289228</td>\n",
       "      <td>-0.200429</td>\n",
       "      <td>-1.113126</td>\n",
       "      <td>-0.548768</td>\n",
       "      <td>0.714708</td>\n",
       "      <td>0.579971</td>\n",
       "      <td>0.613845</td>\n",
       "      <td>-1.022720</td>\n",
       "      <td>1.267764</td>\n",
       "    </tr>\n",
       "    <tr>\n",
       "      <th>3</th>\n",
       "      <td>0.780926</td>\n",
       "      <td>-0.428382</td>\n",
       "      <td>-0.534286</td>\n",
       "      <td>-0.240617</td>\n",
       "      <td>0.273675</td>\n",
       "      <td>0.563852</td>\n",
       "      <td>-0.683157</td>\n",
       "      <td>0.294400</td>\n",
       "      <td>0.866144</td>\n",
       "      <td>-1.793212</td>\n",
       "      <td>...</td>\n",
       "      <td>-0.722054</td>\n",
       "      <td>-0.060123</td>\n",
       "      <td>0.502618</td>\n",
       "      <td>-0.279908</td>\n",
       "      <td>0.058554</td>\n",
       "      <td>0.714708</td>\n",
       "      <td>0.415393</td>\n",
       "      <td>0.199620</td>\n",
       "      <td>-1.046475</td>\n",
       "      <td>-0.788790</td>\n",
       "    </tr>\n",
       "    <tr>\n",
       "      <th>4</th>\n",
       "      <td>0.780926</td>\n",
       "      <td>-0.428382</td>\n",
       "      <td>2.052681</td>\n",
       "      <td>-0.240617</td>\n",
       "      <td>-0.200433</td>\n",
       "      <td>0.563852</td>\n",
       "      <td>0.318695</td>\n",
       "      <td>-1.835494</td>\n",
       "      <td>-1.215024</td>\n",
       "      <td>0.188937</td>\n",
       "      <td>...</td>\n",
       "      <td>-0.722054</td>\n",
       "      <td>0.197294</td>\n",
       "      <td>-0.477296</td>\n",
       "      <td>2.074174</td>\n",
       "      <td>-1.064509</td>\n",
       "      <td>-2.816612</td>\n",
       "      <td>-1.189247</td>\n",
       "      <td>-0.093837</td>\n",
       "      <td>1.107344</td>\n",
       "      <td>-0.788790</td>\n",
       "    </tr>\n",
       "  </tbody>\n",
       "</table>\n",
       "<p>5 rows × 21 columns</p>\n",
       "</div>"
      ],
      "text/plain": [
       "         0         1         2         3         4         5         6   \\\n",
       "0 -0.997083 -0.428382 -0.534286 -0.240617 -0.557837  0.563852  0.431053   \n",
       "1  0.780926 -0.428382  2.052681 -0.240617 -0.601601  0.563852 -0.102644   \n",
       "2 -0.997083 -0.428382  0.759198 -0.240617 -0.630777  0.563852 -1.460295   \n",
       "3  0.780926 -0.428382 -0.534286 -0.240617  0.273675  0.563852 -0.683157   \n",
       "4  0.780926 -0.428382  2.052681 -0.240617 -0.200433  0.563852  0.318695   \n",
       "\n",
       "         7         8         9   ...        11        12        13        14  \\\n",
       "0 -1.770951  1.104611  0.188937  ... -0.722054 -0.381893 -0.952623 -1.080226   \n",
       "1  0.358943  1.126290  0.188937  ...  1.073316 -0.492214  1.291202  0.290286   \n",
       "2 -0.092853 -0.564659  0.188937  ...  1.073316  0.289228 -0.200429 -1.113126   \n",
       "3  0.294400  0.866144 -1.793212  ... -0.722054 -0.060123  0.502618 -0.279908   \n",
       "4 -1.835494 -1.215024  0.188937  ... -0.722054  0.197294 -0.477296  2.074174   \n",
       "\n",
       "         15        16        17        18        19        20  \n",
       "0 -0.519773 -0.796205 -0.624573 -0.569010 -0.412207  1.267764  \n",
       "1  0.039224  0.714708  2.147722  1.671417  0.114370 -0.788790  \n",
       "2 -0.548768  0.714708  0.579971  0.613845 -1.022720  1.267764  \n",
       "3  0.058554  0.714708  0.415393  0.199620 -1.046475 -0.788790  \n",
       "4 -1.064509 -2.816612 -1.189247 -0.093837  1.107344 -0.788790  \n",
       "\n",
       "[5 rows x 21 columns]"
      ]
     },
     "execution_count": 13,
     "metadata": {},
     "output_type": "execute_result"
    }
   ],
   "source": [
    "sc = StandardScaler()\n",
    "\n",
    "sc.fit(X_train)\n",
    "\n",
    "X_train_std = sc.transform(X_train)\n",
    "X_test_std = sc.transform(X_test)\n",
    "\n",
    "print('After standardizing our features, the first 5 rows of our data now look like this:\\n')\n",
    "pd.DataFrame(X_train_std).head()"
   ]
  },
  {
   "cell_type": "code",
   "execution_count": 14,
   "metadata": {},
   "outputs": [
    {
     "data": {
      "image/png": "[encoded data removed]",
      "text/plain": [
       "<Figure size 432x288 with 1 Axes>"
      ]
     },
     "metadata": {
      "needs_background": "light"
     },
     "output_type": "display_data"
    }
   ],
   "source": [
    "markers = ('s', 'x', 'o')\n",
    "colors = ('red', 'blue', 'lightgreen')\n",
    "cmap = ListedColormap(colors[:len(np.unique(y_test))])\n",
    "for idx, cl in enumerate(np.unique(y)):\n",
    "    plt.scatter(x=X[y == cl, 0], y=X[y == cl, 1], label=cl)"
   ]
  },
  {
   "cell_type": "code",
   "execution_count": null,
   "metadata": {},
   "outputs": [],
   "source": [
    "from sklearn.svm import SVC\n",
    "\n",
    "svm = SVC(kernel='rbf', random_state=0, gamma=.10, C=1.0)\n",
    "svm.fit(X_train_std, y_train)\n",
    "\n",
    "print('The accuracy of the svm classifier on training data is {:.2f} out of 1'.format(svm.score(X_train_std, y_train)))\n",
    "\n",
    "print('The accuracy of the svm classifier on test data is {:.2f} out of 1'.format(svm.score(X_test_std, y_test)))"
   ]
  },
  {
   "cell_type": "code",
   "execution_count": null,
   "metadata": {},
   "outputs": [],
   "source": [
    "import pickle\n",
    "filename = 'finalized_model.sav'\n",
    "pickle.dump(model, open(filename, 'wb'))"
   ]
  },
  {
   "cell_type": "code",
   "execution_count": null,
   "metadata": {},
   "outputs": [],
   "source": []
  }
 ],
 "metadata": {
  "kernelspec": {
   "display_name": "Python 3",
   "language": "python",
   "name": "python3"
  },
  "language_info": {
   "codemirror_mode": {
    "name": "ipython",
    "version": 3
   },
   "file_extension": ".py",
   "mimetype": "text/x-python",
   "name": "python",
   "nbconvert_exporter": "python",
   "pygments_lexer": "ipython3",
   "version": "3.7.4"
  }
 },
 "nbformat": 4,
 "nbformat_minor": 4
}
